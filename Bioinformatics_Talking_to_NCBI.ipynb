{
 "cells": [
  {
   "cell_type": "code",
   "execution_count": 2,
   "metadata": {},
   "outputs": [],
   "source": [
    "from Bio import Entrez"
   ]
  },
  {
   "cell_type": "code",
   "execution_count": null,
   "metadata": {},
   "outputs": [
    {
     "name": "stdout",
     "output_type": "stream",
     "text": [
      "b'<?xml version=\"1.0\" encoding=\"UTF-8\" ?>\\n<!DOCTYPE eInfoResult PUBLIC \"-//NLM//DTD einfo 20190110//EN\" \"https://eutils.ncbi.nlm.nih.gov/eutils/dtd/20190110/einfo.dtd\">\\n<eInfoResult>\\n<DbList>\\n\\n\\t<DbName>pubmed</DbName>\\n\\t<DbName>protein</DbName>\\n\\t<DbName>nuccore</DbName>\\n\\t<DbName>ipg</DbName>\\n\\t<DbName>nucleotide</DbName>\\n\\t<DbName>structure</DbName>\\n\\t<DbName>genome</DbName>\\n\\t<DbName>annotinfo</DbName>\\n\\t<DbName>assembly</DbName>\\n\\t<DbName>bioproject</DbName>\\n\\t<DbName>biosample</DbName>\\n\\t<DbName>blastdbinfo</DbName>\\n\\t<DbName>books</DbName>\\n\\t<DbName>cdd</DbName>\\n\\t<DbName>clinvar</DbName>\\n\\t<DbName>gap</DbName>\\n\\t<DbName>gapplus</DbName>\\n\\t<DbName>grasp</DbName>\\n\\t<DbName>dbvar</DbName>\\n\\t<DbName>gene</DbName>\\n\\t<DbName>gds</DbName>\\n\\t<DbName>geoprofiles</DbName>\\n\\t<DbName>medgen</DbName>\\n\\t<DbName>mesh</DbName>\\n\\t<DbName>nlmcatalog</DbName>\\n\\t<DbName>omim</DbName>\\n\\t<DbName>orgtrack</DbName>\\n\\t<DbName>pmc</DbName>\\n\\t<DbName>proteinclusters</DbName>\\n\\t<DbName>pcassay</DbName>\\n\\t<DbName>protfam</DbName>\\n\\t<DbName>pccompound</DbName>\\n\\t<DbName>pcsubstance</DbName>\\n\\t<DbName>seqannot</DbName>\\n\\t<DbName>snp</DbName>\\n\\t<DbName>sra</DbName>\\n\\t<DbName>taxonomy</DbName>\\n\\t<DbName>biocollections</DbName>\\n\\t<DbName>gtr</DbName>\\n</DbList>\\n\\n</eInfoResult>\\n'\n"
     ]
    }
   ],
   "source": [
    "# Show all database that exist in NCBI in XML format.\n",
    "Entrez.email = \"seyedmilad.hashemichepi@gmail.com\" # You should say how you are.\n",
    "handle =Entrez.einfo() # Giving all data base\n",
    "results = handle.read() # Read all data base\n",
    "handle.close() # After giving a result you shod close that\n",
    "print(results) # Print all result in XML shape."
   ]
  },
  {
   "cell_type": "code",
   "execution_count": null,
   "metadata": {},
   "outputs": [
    {
     "name": "stdout",
     "output_type": "stream",
     "text": [
      "pubmed\n",
      "protein\n",
      "nuccore\n",
      "ipg\n",
      "nucleotide\n",
      "structure\n",
      "genome\n",
      "annotinfo\n",
      "assembly\n",
      "bioproject\n",
      "biosample\n",
      "blastdbinfo\n",
      "books\n",
      "cdd\n",
      "clinvar\n",
      "gap\n",
      "gapplus\n",
      "grasp\n",
      "dbvar\n",
      "gene\n",
      "gds\n",
      "geoprofiles\n",
      "medgen\n",
      "mesh\n",
      "nlmcatalog\n",
      "omim\n",
      "orgtrack\n",
      "pmc\n",
      "proteinclusters\n",
      "pcassay\n",
      "protfam\n",
      "pccompound\n",
      "pcsubstance\n",
      "seqannot\n",
      "snp\n",
      "sra\n",
      "taxonomy\n",
      "biocollections\n",
      "gtr\n"
     ]
    }
   ],
   "source": [
    "# Show all databese \n",
    "Entrez.email = \"seyedmilad.hashemichepi@gmail.com\" # You should say how you are.\n",
    "handle = Entrez.einfo() # Giving all data base\n",
    "record = Entrez.read(handle) # Giving all data base\n",
    "for database in record['DbList']: # Print all data base\n",
    "    print(database)"
   ]
  },
  {
   "cell_type": "code",
   "execution_count": null,
   "metadata": {},
   "outputs": [],
   "source": []
  }
 ],
 "metadata": {
  "kernelspec": {
   "display_name": "venv",
   "language": "python",
   "name": "python3"
  },
  "language_info": {
   "codemirror_mode": {
    "name": "ipython",
    "version": 3
   },
   "file_extension": ".py",
   "mimetype": "text/x-python",
   "name": "python",
   "nbconvert_exporter": "python",
   "pygments_lexer": "ipython3",
   "version": "3.13.1"
  }
 },
 "nbformat": 4,
 "nbformat_minor": 2
}
